{
  "nbformat": 4,
  "nbformat_minor": 0,
  "metadata": {
    "colab": {
      "provenance": [],
      "authorship_tag": "ABX9TyP36hgka0Ckg99+0V/46yEH",
      "include_colab_link": true
    },
    "kernelspec": {
      "name": "python3",
      "display_name": "Python 3"
    },
    "language_info": {
      "name": "python"
    },
    "gpuClass": "standard"
  },
  "cells": [
    {
      "cell_type": "markdown",
      "metadata": {
        "id": "view-in-github",
        "colab_type": "text"
      },
      "source": [
        "<a href=\"https://colab.research.google.com/github/superproger228/coursework/blob/main/%D0%9A%D0%BE%D0%BF%D0%B8%D1%8F6_PyTorch2.ipynb\" target=\"_parent\"><img src=\"https://colab.research.google.com/assets/colab-badge.svg\" alt=\"Open In Colab\"/></a>"
      ]
    },
    {
      "cell_type": "code",
      "execution_count": 1,
      "metadata": {
        "id": "TqVImUvgWUuA"
      },
      "outputs": [],
      "source": [
        "import torch \n",
        "import pandas as pd \n",
        "import torch.nn as nn \n",
        "from torch.utils.data import random_split, DataLoader, TensorDataset \n",
        "import torch.nn.functional as F \n",
        "import numpy as np \n",
        "import torch.optim as optim \n",
        "from torch.optim import Adam\n",
        "import seaborn as sns\n",
        "import matplotlib.pyplot as plt"
      ]
    },
    {
      "cell_type": "code",
      "source": [
        "df = sns.load_dataset(\"iris\") #загружаем датасет ирисов\n",
        "df.head() #вывод первых 5 строк"
      ],
      "metadata": {
        "colab": {
          "base_uri": "https://localhost:8080/",
          "height": 206
        },
        "id": "WSqNJK8NWaQ8",
        "outputId": "9a42d4f0-b5a5-4223-8b03-e4beb1321580"
      },
      "execution_count": 2,
      "outputs": [
        {
          "output_type": "execute_result",
          "data": {
            "text/plain": [
              "   sepal_length  sepal_width  petal_length  petal_width species\n",
              "0           5.1          3.5           1.4          0.2  setosa\n",
              "1           4.9          3.0           1.4          0.2  setosa\n",
              "2           4.7          3.2           1.3          0.2  setosa\n",
              "3           4.6          3.1           1.5          0.2  setosa\n",
              "4           5.0          3.6           1.4          0.2  setosa"
            ],
            "text/html": [
              "\n",
              "  <div id=\"df-e84db5cc-0731-4288-943d-d7ecc4a25a33\">\n",
              "    <div class=\"colab-df-container\">\n",
              "      <div>\n",
              "<style scoped>\n",
              "    .dataframe tbody tr th:only-of-type {\n",
              "        vertical-align: middle;\n",
              "    }\n",
              "\n",
              "    .dataframe tbody tr th {\n",
              "        vertical-align: top;\n",
              "    }\n",
              "\n",
              "    .dataframe thead th {\n",
              "        text-align: right;\n",
              "    }\n",
              "</style>\n",
              "<table border=\"1\" class=\"dataframe\">\n",
              "  <thead>\n",
              "    <tr style=\"text-align: right;\">\n",
              "      <th></th>\n",
              "      <th>sepal_length</th>\n",
              "      <th>sepal_width</th>\n",
              "      <th>petal_length</th>\n",
              "      <th>petal_width</th>\n",
              "      <th>species</th>\n",
              "    </tr>\n",
              "  </thead>\n",
              "  <tbody>\n",
              "    <tr>\n",
              "      <th>0</th>\n",
              "      <td>5.1</td>\n",
              "      <td>3.5</td>\n",
              "      <td>1.4</td>\n",
              "      <td>0.2</td>\n",
              "      <td>setosa</td>\n",
              "    </tr>\n",
              "    <tr>\n",
              "      <th>1</th>\n",
              "      <td>4.9</td>\n",
              "      <td>3.0</td>\n",
              "      <td>1.4</td>\n",
              "      <td>0.2</td>\n",
              "      <td>setosa</td>\n",
              "    </tr>\n",
              "    <tr>\n",
              "      <th>2</th>\n",
              "      <td>4.7</td>\n",
              "      <td>3.2</td>\n",
              "      <td>1.3</td>\n",
              "      <td>0.2</td>\n",
              "      <td>setosa</td>\n",
              "    </tr>\n",
              "    <tr>\n",
              "      <th>3</th>\n",
              "      <td>4.6</td>\n",
              "      <td>3.1</td>\n",
              "      <td>1.5</td>\n",
              "      <td>0.2</td>\n",
              "      <td>setosa</td>\n",
              "    </tr>\n",
              "    <tr>\n",
              "      <th>4</th>\n",
              "      <td>5.0</td>\n",
              "      <td>3.6</td>\n",
              "      <td>1.4</td>\n",
              "      <td>0.2</td>\n",
              "      <td>setosa</td>\n",
              "    </tr>\n",
              "  </tbody>\n",
              "</table>\n",
              "</div>\n",
              "      <button class=\"colab-df-convert\" onclick=\"convertToInteractive('df-e84db5cc-0731-4288-943d-d7ecc4a25a33')\"\n",
              "              title=\"Convert this dataframe to an interactive table.\"\n",
              "              style=\"display:none;\">\n",
              "        \n",
              "  <svg xmlns=\"http://www.w3.org/2000/svg\" height=\"24px\"viewBox=\"0 0 24 24\"\n",
              "       width=\"24px\">\n",
              "    <path d=\"M0 0h24v24H0V0z\" fill=\"none\"/>\n",
              "    <path d=\"M18.56 5.44l.94 2.06.94-2.06 2.06-.94-2.06-.94-.94-2.06-.94 2.06-2.06.94zm-11 1L8.5 8.5l.94-2.06 2.06-.94-2.06-.94L8.5 2.5l-.94 2.06-2.06.94zm10 10l.94 2.06.94-2.06 2.06-.94-2.06-.94-.94-2.06-.94 2.06-2.06.94z\"/><path d=\"M17.41 7.96l-1.37-1.37c-.4-.4-.92-.59-1.43-.59-.52 0-1.04.2-1.43.59L10.3 9.45l-7.72 7.72c-.78.78-.78 2.05 0 2.83L4 21.41c.39.39.9.59 1.41.59.51 0 1.02-.2 1.41-.59l7.78-7.78 2.81-2.81c.8-.78.8-2.07 0-2.86zM5.41 20L4 18.59l7.72-7.72 1.47 1.35L5.41 20z\"/>\n",
              "  </svg>\n",
              "      </button>\n",
              "      \n",
              "  <style>\n",
              "    .colab-df-container {\n",
              "      display:flex;\n",
              "      flex-wrap:wrap;\n",
              "      gap: 12px;\n",
              "    }\n",
              "\n",
              "    .colab-df-convert {\n",
              "      background-color: #E8F0FE;\n",
              "      border: none;\n",
              "      border-radius: 50%;\n",
              "      cursor: pointer;\n",
              "      display: none;\n",
              "      fill: #1967D2;\n",
              "      height: 32px;\n",
              "      padding: 0 0 0 0;\n",
              "      width: 32px;\n",
              "    }\n",
              "\n",
              "    .colab-df-convert:hover {\n",
              "      background-color: #E2EBFA;\n",
              "      box-shadow: 0px 1px 2px rgba(60, 64, 67, 0.3), 0px 1px 3px 1px rgba(60, 64, 67, 0.15);\n",
              "      fill: #174EA6;\n",
              "    }\n",
              "\n",
              "    [theme=dark] .colab-df-convert {\n",
              "      background-color: #3B4455;\n",
              "      fill: #D2E3FC;\n",
              "    }\n",
              "\n",
              "    [theme=dark] .colab-df-convert:hover {\n",
              "      background-color: #434B5C;\n",
              "      box-shadow: 0px 1px 3px 1px rgba(0, 0, 0, 0.15);\n",
              "      filter: drop-shadow(0px 1px 2px rgba(0, 0, 0, 0.3));\n",
              "      fill: #FFFFFF;\n",
              "    }\n",
              "  </style>\n",
              "\n",
              "      <script>\n",
              "        const buttonEl =\n",
              "          document.querySelector('#df-e84db5cc-0731-4288-943d-d7ecc4a25a33 button.colab-df-convert');\n",
              "        buttonEl.style.display =\n",
              "          google.colab.kernel.accessAllowed ? 'block' : 'none';\n",
              "\n",
              "        async function convertToInteractive(key) {\n",
              "          const element = document.querySelector('#df-e84db5cc-0731-4288-943d-d7ecc4a25a33');\n",
              "          const dataTable =\n",
              "            await google.colab.kernel.invokeFunction('convertToInteractive',\n",
              "                                                     [key], {});\n",
              "          if (!dataTable) return;\n",
              "\n",
              "          const docLinkHtml = 'Like what you see? Visit the ' +\n",
              "            '<a target=\"_blank\" href=https://colab.research.google.com/notebooks/data_table.ipynb>data table notebook</a>'\n",
              "            + ' to learn more about interactive tables.';\n",
              "          element.innerHTML = '';\n",
              "          dataTable['output_type'] = 'display_data';\n",
              "          await google.colab.output.renderOutput(dataTable, element);\n",
              "          const docLink = document.createElement('div');\n",
              "          docLink.innerHTML = docLinkHtml;\n",
              "          element.appendChild(docLink);\n",
              "        }\n",
              "      </script>\n",
              "    </div>\n",
              "  </div>\n",
              "  "
            ]
          },
          "metadata": {},
          "execution_count": 2
        }
      ]
    },
    {
      "cell_type": "code",
      "source": [
        "df['species'].value_counts() #выводим количество уникальных значений в стобце, содержашем тип ириса"
      ],
      "metadata": {
        "colab": {
          "base_uri": "https://localhost:8080/"
        },
        "id": "QALYchFnG5UM",
        "outputId": "b2c57d58-f3c6-4ca6-a946-4a36285baffa"
      },
      "execution_count": 3,
      "outputs": [
        {
          "output_type": "execute_result",
          "data": {
            "text/plain": [
              "setosa        50\n",
              "versicolor    50\n",
              "virginica     50\n",
              "Name: species, dtype: int64"
            ]
          },
          "metadata": {},
          "execution_count": 3
        }
      ]
    },
    {
      "cell_type": "code",
      "source": [
        "labels = {'setosa':0, 'versicolor':1, 'virginica':2}  #создаем словарь \n",
        "df['IrisType_num'] = df['species']  #добавляем новый столбец\n",
        "df.IrisType_num = [labels[item] for item in df.IrisType_num]  #преобразуем тип ириса в число\n",
        "df.head()"
      ],
      "metadata": {
        "colab": {
          "base_uri": "https://localhost:8080/",
          "height": 206
        },
        "id": "Qre2fJX3WrQG",
        "outputId": "9735d1a5-dafb-463e-fadc-eff50f81f5c6"
      },
      "execution_count": 4,
      "outputs": [
        {
          "output_type": "execute_result",
          "data": {
            "text/plain": [
              "   sepal_length  sepal_width  petal_length  petal_width species  IrisType_num\n",
              "0           5.1          3.5           1.4          0.2  setosa             0\n",
              "1           4.9          3.0           1.4          0.2  setosa             0\n",
              "2           4.7          3.2           1.3          0.2  setosa             0\n",
              "3           4.6          3.1           1.5          0.2  setosa             0\n",
              "4           5.0          3.6           1.4          0.2  setosa             0"
            ],
            "text/html": [
              "\n",
              "  <div id=\"df-aa7307eb-205f-4955-8f75-ca889d5aec0b\">\n",
              "    <div class=\"colab-df-container\">\n",
              "      <div>\n",
              "<style scoped>\n",
              "    .dataframe tbody tr th:only-of-type {\n",
              "        vertical-align: middle;\n",
              "    }\n",
              "\n",
              "    .dataframe tbody tr th {\n",
              "        vertical-align: top;\n",
              "    }\n",
              "\n",
              "    .dataframe thead th {\n",
              "        text-align: right;\n",
              "    }\n",
              "</style>\n",
              "<table border=\"1\" class=\"dataframe\">\n",
              "  <thead>\n",
              "    <tr style=\"text-align: right;\">\n",
              "      <th></th>\n",
              "      <th>sepal_length</th>\n",
              "      <th>sepal_width</th>\n",
              "      <th>petal_length</th>\n",
              "      <th>petal_width</th>\n",
              "      <th>species</th>\n",
              "      <th>IrisType_num</th>\n",
              "    </tr>\n",
              "  </thead>\n",
              "  <tbody>\n",
              "    <tr>\n",
              "      <th>0</th>\n",
              "      <td>5.1</td>\n",
              "      <td>3.5</td>\n",
              "      <td>1.4</td>\n",
              "      <td>0.2</td>\n",
              "      <td>setosa</td>\n",
              "      <td>0</td>\n",
              "    </tr>\n",
              "    <tr>\n",
              "      <th>1</th>\n",
              "      <td>4.9</td>\n",
              "      <td>3.0</td>\n",
              "      <td>1.4</td>\n",
              "      <td>0.2</td>\n",
              "      <td>setosa</td>\n",
              "      <td>0</td>\n",
              "    </tr>\n",
              "    <tr>\n",
              "      <th>2</th>\n",
              "      <td>4.7</td>\n",
              "      <td>3.2</td>\n",
              "      <td>1.3</td>\n",
              "      <td>0.2</td>\n",
              "      <td>setosa</td>\n",
              "      <td>0</td>\n",
              "    </tr>\n",
              "    <tr>\n",
              "      <th>3</th>\n",
              "      <td>4.6</td>\n",
              "      <td>3.1</td>\n",
              "      <td>1.5</td>\n",
              "      <td>0.2</td>\n",
              "      <td>setosa</td>\n",
              "      <td>0</td>\n",
              "    </tr>\n",
              "    <tr>\n",
              "      <th>4</th>\n",
              "      <td>5.0</td>\n",
              "      <td>3.6</td>\n",
              "      <td>1.4</td>\n",
              "      <td>0.2</td>\n",
              "      <td>setosa</td>\n",
              "      <td>0</td>\n",
              "    </tr>\n",
              "  </tbody>\n",
              "</table>\n",
              "</div>\n",
              "      <button class=\"colab-df-convert\" onclick=\"convertToInteractive('df-aa7307eb-205f-4955-8f75-ca889d5aec0b')\"\n",
              "              title=\"Convert this dataframe to an interactive table.\"\n",
              "              style=\"display:none;\">\n",
              "        \n",
              "  <svg xmlns=\"http://www.w3.org/2000/svg\" height=\"24px\"viewBox=\"0 0 24 24\"\n",
              "       width=\"24px\">\n",
              "    <path d=\"M0 0h24v24H0V0z\" fill=\"none\"/>\n",
              "    <path d=\"M18.56 5.44l.94 2.06.94-2.06 2.06-.94-2.06-.94-.94-2.06-.94 2.06-2.06.94zm-11 1L8.5 8.5l.94-2.06 2.06-.94-2.06-.94L8.5 2.5l-.94 2.06-2.06.94zm10 10l.94 2.06.94-2.06 2.06-.94-2.06-.94-.94-2.06-.94 2.06-2.06.94z\"/><path d=\"M17.41 7.96l-1.37-1.37c-.4-.4-.92-.59-1.43-.59-.52 0-1.04.2-1.43.59L10.3 9.45l-7.72 7.72c-.78.78-.78 2.05 0 2.83L4 21.41c.39.39.9.59 1.41.59.51 0 1.02-.2 1.41-.59l7.78-7.78 2.81-2.81c.8-.78.8-2.07 0-2.86zM5.41 20L4 18.59l7.72-7.72 1.47 1.35L5.41 20z\"/>\n",
              "  </svg>\n",
              "      </button>\n",
              "      \n",
              "  <style>\n",
              "    .colab-df-container {\n",
              "      display:flex;\n",
              "      flex-wrap:wrap;\n",
              "      gap: 12px;\n",
              "    }\n",
              "\n",
              "    .colab-df-convert {\n",
              "      background-color: #E8F0FE;\n",
              "      border: none;\n",
              "      border-radius: 50%;\n",
              "      cursor: pointer;\n",
              "      display: none;\n",
              "      fill: #1967D2;\n",
              "      height: 32px;\n",
              "      padding: 0 0 0 0;\n",
              "      width: 32px;\n",
              "    }\n",
              "\n",
              "    .colab-df-convert:hover {\n",
              "      background-color: #E2EBFA;\n",
              "      box-shadow: 0px 1px 2px rgba(60, 64, 67, 0.3), 0px 1px 3px 1px rgba(60, 64, 67, 0.15);\n",
              "      fill: #174EA6;\n",
              "    }\n",
              "\n",
              "    [theme=dark] .colab-df-convert {\n",
              "      background-color: #3B4455;\n",
              "      fill: #D2E3FC;\n",
              "    }\n",
              "\n",
              "    [theme=dark] .colab-df-convert:hover {\n",
              "      background-color: #434B5C;\n",
              "      box-shadow: 0px 1px 3px 1px rgba(0, 0, 0, 0.15);\n",
              "      filter: drop-shadow(0px 1px 2px rgba(0, 0, 0, 0.3));\n",
              "      fill: #FFFFFF;\n",
              "    }\n",
              "  </style>\n",
              "\n",
              "      <script>\n",
              "        const buttonEl =\n",
              "          document.querySelector('#df-aa7307eb-205f-4955-8f75-ca889d5aec0b button.colab-df-convert');\n",
              "        buttonEl.style.display =\n",
              "          google.colab.kernel.accessAllowed ? 'block' : 'none';\n",
              "\n",
              "        async function convertToInteractive(key) {\n",
              "          const element = document.querySelector('#df-aa7307eb-205f-4955-8f75-ca889d5aec0b');\n",
              "          const dataTable =\n",
              "            await google.colab.kernel.invokeFunction('convertToInteractive',\n",
              "                                                     [key], {});\n",
              "          if (!dataTable) return;\n",
              "\n",
              "          const docLinkHtml = 'Like what you see? Visit the ' +\n",
              "            '<a target=\"_blank\" href=https://colab.research.google.com/notebooks/data_table.ipynb>data table notebook</a>'\n",
              "            + ' to learn more about interactive tables.';\n",
              "          element.innerHTML = '';\n",
              "          dataTable['output_type'] = 'display_data';\n",
              "          await google.colab.output.renderOutput(dataTable, element);\n",
              "          const docLink = document.createElement('div');\n",
              "          docLink.innerHTML = docLinkHtml;\n",
              "          element.appendChild(docLink);\n",
              "        }\n",
              "      </script>\n",
              "    </div>\n",
              "  </div>\n",
              "  "
            ]
          },
          "metadata": {},
          "execution_count": 4
        }
      ]
    },
    {
      "cell_type": "code",
      "source": [
        "input = df.iloc[:,:-2]                #все столбцы кроме последних 2х\n",
        "print(input, '\\n')   \n",
        "output = df.loc[:, 'IrisType_num']   \n",
        "print(output)"
      ],
      "metadata": {
        "colab": {
          "base_uri": "https://localhost:8080/"
        },
        "id": "lqSROBnUJiJ4",
        "outputId": "73cfbadd-15a6-414b-83eb-1bb61c3e3525"
      },
      "execution_count": 5,
      "outputs": [
        {
          "output_type": "stream",
          "name": "stdout",
          "text": [
            "     sepal_length  sepal_width  petal_length  petal_width\n",
            "0             5.1          3.5           1.4          0.2\n",
            "1             4.9          3.0           1.4          0.2\n",
            "2             4.7          3.2           1.3          0.2\n",
            "3             4.6          3.1           1.5          0.2\n",
            "4             5.0          3.6           1.4          0.2\n",
            "..            ...          ...           ...          ...\n",
            "145           6.7          3.0           5.2          2.3\n",
            "146           6.3          2.5           5.0          1.9\n",
            "147           6.5          3.0           5.2          2.0\n",
            "148           6.2          3.4           5.4          2.3\n",
            "149           5.9          3.0           5.1          1.8\n",
            "\n",
            "[150 rows x 4 columns] \n",
            "\n",
            "0      0\n",
            "1      0\n",
            "2      0\n",
            "3      0\n",
            "4      0\n",
            "      ..\n",
            "145    2\n",
            "146    2\n",
            "147    2\n",
            "148    2\n",
            "149    2\n",
            "Name: IrisType_num, Length: 150, dtype: int64\n"
          ]
        }
      ]
    },
    {
      "cell_type": "code",
      "source": [
        "input = torch.Tensor(input.to_numpy())     \n",
        "output = torch.tensor(output.to_numpy())        \n",
        "data = TensorDataset(input, output)        #cоздаем датасет из 2х тензоров"
      ],
      "metadata": {
        "id": "YQpQBvArY0_q"
      },
      "execution_count": 6,
      "outputs": []
    },
    {
      "cell_type": "code",
      "source": [
        "train_batch_size = 10        #количество батчей для тренировочной выборки\n",
        "number_rows = len(input)     #150 \n",
        "test_split = int(number_rows*0.2)     #15  30\n",
        "validate_split = int(number_rows*0.2) #30\n",
        "train_split = number_rows - test_split - validate_split   #105  90\n",
        "train_set, validate_set, test_set = random_split( \n",
        "    data, [train_split, validate_split, test_split])                                #произвольно разделяем набор данных на непересекающиеся новые наборы данных заданной длины.\n",
        " \n",
        "train_loader = DataLoader(train_set, batch_size = train_batch_size, shuffle = True) #разделяем даныные на пакеты\n",
        "validate_loader = DataLoader(validate_set, batch_size = 1)                          \n",
        "test_loader = DataLoader(test_set, batch_size = 1)                                  "
      ],
      "metadata": {
        "id": "Eeh8nDHoZFn1"
      },
      "execution_count": 7,
      "outputs": []
    },
    {
      "cell_type": "code",
      "source": [
        "test_set[:]"
      ],
      "metadata": {
        "colab": {
          "base_uri": "https://localhost:8080/"
        },
        "id": "FiOJGa3Y7fYe",
        "outputId": "88a39fe3-db35-4aba-a365-911ef24204fa"
      },
      "execution_count": 8,
      "outputs": [
        {
          "output_type": "execute_result",
          "data": {
            "text/plain": [
              "(tensor([[6.5000, 3.0000, 5.2000, 2.0000],\n",
              "         [4.7000, 3.2000, 1.6000, 0.2000],\n",
              "         [6.1000, 2.9000, 4.7000, 1.4000],\n",
              "         [5.2000, 3.4000, 1.4000, 0.2000],\n",
              "         [6.4000, 2.9000, 4.3000, 1.3000],\n",
              "         [6.9000, 3.2000, 5.7000, 2.3000],\n",
              "         [6.7000, 3.1000, 4.4000, 1.4000],\n",
              "         [7.4000, 2.8000, 6.1000, 1.9000],\n",
              "         [7.1000, 3.0000, 5.9000, 2.1000],\n",
              "         [5.0000, 3.4000, 1.6000, 0.4000],\n",
              "         [6.3000, 3.4000, 5.6000, 2.4000],\n",
              "         [5.4000, 3.9000, 1.3000, 0.4000],\n",
              "         [5.0000, 3.5000, 1.3000, 0.3000],\n",
              "         [6.7000, 3.0000, 5.0000, 1.7000],\n",
              "         [6.2000, 3.4000, 5.4000, 2.3000],\n",
              "         [6.2000, 2.2000, 4.5000, 1.5000],\n",
              "         [4.6000, 3.4000, 1.4000, 0.3000],\n",
              "         [4.9000, 3.6000, 1.4000, 0.1000],\n",
              "         [6.3000, 2.7000, 4.9000, 1.8000],\n",
              "         [5.5000, 2.6000, 4.4000, 1.2000],\n",
              "         [5.8000, 2.7000, 5.1000, 1.9000],\n",
              "         [6.3000, 3.3000, 6.0000, 2.5000],\n",
              "         [5.8000, 2.7000, 4.1000, 1.0000],\n",
              "         [6.7000, 3.1000, 4.7000, 1.5000],\n",
              "         [6.1000, 2.8000, 4.7000, 1.2000],\n",
              "         [4.6000, 3.6000, 1.0000, 0.2000],\n",
              "         [5.4000, 3.0000, 4.5000, 1.5000],\n",
              "         [4.7000, 3.2000, 1.3000, 0.2000],\n",
              "         [5.5000, 2.5000, 4.0000, 1.3000],\n",
              "         [5.2000, 4.1000, 1.5000, 0.1000]]),\n",
              " tensor([2, 0, 1, 0, 1, 2, 1, 2, 2, 0, 2, 0, 0, 1, 2, 1, 0, 0, 2, 1, 2, 2, 1, 1,\n",
              "         1, 0, 1, 0, 1, 0]))"
            ]
          },
          "metadata": {},
          "execution_count": 8
        }
      ]
    },
    {
      "cell_type": "code",
      "source": [
        "for i, batch in enumerate(test_loader):\n",
        " print(i, batch)"
      ],
      "metadata": {
        "colab": {
          "base_uri": "https://localhost:8080/"
        },
        "id": "2oAWeiVk6-Wd",
        "outputId": "83ffae83-9138-455f-bbf4-7ab3c93c0864"
      },
      "execution_count": 33,
      "outputs": [
        {
          "output_type": "stream",
          "name": "stdout",
          "text": [
            "0 [tensor([[6.5000, 3.0000, 5.2000, 2.0000]]), tensor([2])]\n",
            "1 [tensor([[4.7000, 3.2000, 1.6000, 0.2000]]), tensor([0])]\n",
            "2 [tensor([[6.1000, 2.9000, 4.7000, 1.4000]]), tensor([1])]\n",
            "3 [tensor([[5.2000, 3.4000, 1.4000, 0.2000]]), tensor([0])]\n",
            "4 [tensor([[6.4000, 2.9000, 4.3000, 1.3000]]), tensor([1])]\n",
            "5 [tensor([[6.9000, 3.2000, 5.7000, 2.3000]]), tensor([2])]\n",
            "6 [tensor([[6.7000, 3.1000, 4.4000, 1.4000]]), tensor([1])]\n",
            "7 [tensor([[7.4000, 2.8000, 6.1000, 1.9000]]), tensor([2])]\n",
            "8 [tensor([[7.1000, 3.0000, 5.9000, 2.1000]]), tensor([2])]\n",
            "9 [tensor([[5.0000, 3.4000, 1.6000, 0.4000]]), tensor([0])]\n",
            "10 [tensor([[6.3000, 3.4000, 5.6000, 2.4000]]), tensor([2])]\n",
            "11 [tensor([[5.4000, 3.9000, 1.3000, 0.4000]]), tensor([0])]\n",
            "12 [tensor([[5.0000, 3.5000, 1.3000, 0.3000]]), tensor([0])]\n",
            "13 [tensor([[6.7000, 3.0000, 5.0000, 1.7000]]), tensor([1])]\n",
            "14 [tensor([[6.2000, 3.4000, 5.4000, 2.3000]]), tensor([2])]\n",
            "15 [tensor([[6.2000, 2.2000, 4.5000, 1.5000]]), tensor([1])]\n",
            "16 [tensor([[4.6000, 3.4000, 1.4000, 0.3000]]), tensor([0])]\n",
            "17 [tensor([[4.9000, 3.6000, 1.4000, 0.1000]]), tensor([0])]\n",
            "18 [tensor([[6.3000, 2.7000, 4.9000, 1.8000]]), tensor([2])]\n",
            "19 [tensor([[5.5000, 2.6000, 4.4000, 1.2000]]), tensor([1])]\n",
            "20 [tensor([[5.8000, 2.7000, 5.1000, 1.9000]]), tensor([2])]\n",
            "21 [tensor([[6.3000, 3.3000, 6.0000, 2.5000]]), tensor([2])]\n",
            "22 [tensor([[5.8000, 2.7000, 4.1000, 1.0000]]), tensor([1])]\n",
            "23 [tensor([[6.7000, 3.1000, 4.7000, 1.5000]]), tensor([1])]\n",
            "24 [tensor([[6.1000, 2.8000, 4.7000, 1.2000]]), tensor([1])]\n",
            "25 [tensor([[4.6000, 3.6000, 1.0000, 0.2000]]), tensor([0])]\n",
            "26 [tensor([[5.4000, 3.0000, 4.5000, 1.5000]]), tensor([1])]\n",
            "27 [tensor([[4.7000, 3.2000, 1.3000, 0.2000]]), tensor([0])]\n",
            "28 [tensor([[5.5000, 2.5000, 4.0000, 1.3000]]), tensor([1])]\n",
            "29 [tensor([[5.2000, 4.1000, 1.5000, 0.1000]]), tensor([0])]\n"
          ]
        }
      ]
    },
    {
      "cell_type": "code",
      "source": [
        "#len(test_set)\n",
        "#test_set[:]"
      ],
      "metadata": {
        "id": "MAD0L9grfc8M"
      },
      "execution_count": 10,
      "outputs": []
    },
    {
      "cell_type": "code",
      "source": [
        "input_size = list(input.shape)[1]   #.shape-размеры тензора, получаем значение 4\n",
        "output_size = len(labels)           #3\n",
        "N = 32                              #количество параметров\n",
        "\n",
        "class Network(nn.Module):                          #задаем сеть с 3 линейными слоями\n",
        "   def __init__(self, input_size, output_size): \n",
        "       super(Network, self).__init__() \n",
        "        \n",
        "       self.layer1 = nn.Linear(input_size, N)     \n",
        "       self.layer2 = nn.Linear(N, N) \n",
        "       self.layer3 = nn.Linear(N, output_size) \n",
        "\n",
        "   def forward(self, x):                           \n",
        "       x1 = F.relu(self.layer1(x))           #relu-Rectified Linear Unit: f=max(0;x)\n",
        "       x2 = F.relu(self.layer2(x1)) \n",
        "       x3 = self.layer3(x2) \n",
        "       return x3 \n",
        " \n",
        "model = Network(input_size, output_size)"
      ],
      "metadata": {
        "id": "FGna0aDyZxA1"
      },
      "execution_count": 11,
      "outputs": []
    },
    {
      "cell_type": "code",
      "source": [
        "from torchsummary import summary\n",
        "summary(model, (4,))     #параметры модели"
      ],
      "metadata": {
        "colab": {
          "base_uri": "https://localhost:8080/"
        },
        "id": "LTSPyPj8vOcp",
        "outputId": "8cdec0a6-1867-4d34-b8fe-f0474d20685c"
      },
      "execution_count": 12,
      "outputs": [
        {
          "output_type": "stream",
          "name": "stdout",
          "text": [
            "----------------------------------------------------------------\n",
            "        Layer (type)               Output Shape         Param #\n",
            "================================================================\n",
            "            Linear-1                   [-1, 32]             160\n",
            "            Linear-2                   [-1, 32]           1,056\n",
            "            Linear-3                    [-1, 3]              99\n",
            "================================================================\n",
            "Total params: 1,315\n",
            "Trainable params: 1,315\n",
            "Non-trainable params: 0\n",
            "----------------------------------------------------------------\n",
            "Input size (MB): 0.00\n",
            "Forward/backward pass size (MB): 0.00\n",
            "Params size (MB): 0.01\n",
            "Estimated Total Size (MB): 0.01\n",
            "----------------------------------------------------------------\n"
          ]
        }
      ]
    },
    {
      "cell_type": "code",
      "source": [
        "loss_fn = nn.CrossEntropyLoss()                                    #перекрестная энтропия\n",
        "optimizer = Adam(model.parameters(), lr=0.001, weight_decay=5e-4)  #оптимизатор Адам со скоростью обучения 0,01\n"
      ],
      "metadata": {
        "id": "d3FJVdMXf-Y6"
      },
      "execution_count": 13,
      "outputs": []
    },
    {
      "cell_type": "code",
      "source": [
        "from google.colab import drive                 #сохранение параметров модели после обучения в файл на гугл диске\n",
        "drive.mount('/content/drive')\n",
        "\n",
        "def saveModel(): \n",
        "    torch.save(model.state_dict(), F'/content/drive/MyDrive/Colab Notebooks/checkpoint.txt') "
      ],
      "metadata": {
        "colab": {
          "base_uri": "https://localhost:8080/"
        },
        "id": "EygqtGK_SSGg",
        "outputId": "b4046760-b540-4420-98c2-3dec96ebc8d6"
      },
      "execution_count": 14,
      "outputs": [
        {
          "output_type": "stream",
          "name": "stdout",
          "text": [
            "Drive already mounted at /content/drive; to attempt to forcibly remount, call drive.mount(\"/content/drive\", force_remount=True).\n"
          ]
        }
      ]
    },
    {
      "cell_type": "code",
      "source": [
        "def train(num_epochs): \n",
        "    best_accuracy = 0.0 \n",
        "    ep_train_loss = []      #создаем массивы для дальнейшего построения графиков\n",
        "    ep_val_loss = []\n",
        "    ep_accuracy = []\n",
        "     \n",
        "    for epoch in range(1, num_epochs+1): \n",
        "        running_train_loss = 0.0 \n",
        "        running_accuracy = 0.0 \n",
        "        running_vall_loss = 0.0 \n",
        "        total = 0 \n",
        "\n",
        " \n",
        "        for data in train_loader: \n",
        "            inputs, outputs = data    #передаем входные и выходные данные, data это [input, output]\n",
        "            optimizer.zero_grad()     #зануление предыдущих значений градиента\n",
        "            predicted_outputs = model(inputs)   #предсказываем вывод модели\n",
        "            train_loss = loss_fn(predicted_outputs, outputs)   #считаем потери \n",
        "            train_loss.backward()     #вычисление градиента\n",
        "            optimizer.step()          #обновление параметров\n",
        "            running_train_loss +=train_loss.item()  \n",
        "            \n",
        "\n",
        "        train_loss_value = running_train_loss/len(train_loader) \n",
        "        ep_train_loss.append(train_loss_value)\n",
        "        #валидация\n",
        "        with torch.no_grad(): \n",
        "            model.eval() \n",
        "            for data in validate_loader: \n",
        "               inputs, outputs = data \n",
        "               predicted_outputs = model(inputs)     #предсказываем вывод модели\n",
        "               val_loss = loss_fn(predicted_outputs, outputs)  #считаем потери      \n",
        "               _, predicted = torch.max(predicted_outputs, 1)  #torch.max->(values, indices), сохраняем только индексы\n",
        "               running_vall_loss += val_loss.item()  \n",
        "               total += outputs.size(0) \n",
        "               running_accuracy += (predicted == outputs).sum().item() \n",
        " \n",
        "        val_loss_value = running_vall_loss/len(validate_loader) \n",
        "        ep_val_loss.append(val_loss_value)  \n",
        "\n",
        "        accuracy = (100 * running_accuracy / total)     \n",
        "        ep_accuracy.append(accuracy)\n",
        "\n",
        "        if accuracy > best_accuracy: \n",
        "            saveModel()              #сохранение модели\n",
        "            best_accuracy = accuracy \n",
        "         \n",
        "        print('batch', epoch, 'Training Loss: %.2f' %train_loss_value, 'Validation Loss: %.2f' %val_loss_value, 'Accuracy %d %%' % (accuracy))\n",
        "    return ep_train_loss, ep_val_loss, ep_accuracy"
      ],
      "metadata": {
        "id": "Q71GbwrThQL7"
      },
      "execution_count": 15,
      "outputs": []
    },
    {
      "cell_type": "code",
      "source": [
        "def plot_train_process(ep_train_loss, ep_val_loss, ep_accuracy):\n",
        "  fig, axes = plt.subplots(1, 2, figsize=(15,5))\n",
        "\n",
        "  axes[0].set_title('Loss')\n",
        "  axes[0].plot(ep_train_loss, label='train')\n",
        "  axes[0].plot(ep_val_loss, label='validation')\n",
        "  axes[0].legend()\n",
        "\n",
        "  axes[1].set_title('Accuracy')\n",
        "  axes[1].plot(ep_accuracy)"
      ],
      "metadata": {
        "id": "DdnmqlL4Y2Tt"
      },
      "execution_count": 16,
      "outputs": []
    },
    {
      "cell_type": "code",
      "source": [
        "num_epochs = 30\n",
        "ep_train_loss, ep_val_loss, ep_accuracy = train(num_epochs) \n",
        "plot_train_process(ep_train_loss, ep_val_loss, ep_accuracy)"
      ],
      "metadata": {
        "colab": {
          "base_uri": "https://localhost:8080/",
          "height": 989
        },
        "id": "o9zYs9PDoPCZ",
        "outputId": "61b22655-b173-46a8-fe47-80c475da2352"
      },
      "execution_count": 85,
      "outputs": [
        {
          "output_type": "stream",
          "name": "stdout",
          "text": [
            "batch 1 Training Loss: 0.08 Validation Loss: 0.05 Accuracy 96 %\n",
            "batch 2 Training Loss: 0.05 Validation Loss: 0.06 Accuracy 96 %\n",
            "batch 3 Training Loss: 0.06 Validation Loss: 0.07 Accuracy 96 %\n",
            "batch 4 Training Loss: 0.08 Validation Loss: 0.03 Accuracy 96 %\n",
            "batch 5 Training Loss: 0.05 Validation Loss: 0.07 Accuracy 96 %\n",
            "batch 6 Training Loss: 0.06 Validation Loss: 0.08 Accuracy 96 %\n",
            "batch 7 Training Loss: 0.05 Validation Loss: 0.04 Accuracy 96 %\n",
            "batch 8 Training Loss: 0.06 Validation Loss: 0.06 Accuracy 96 %\n",
            "batch 9 Training Loss: 0.06 Validation Loss: 0.05 Accuracy 96 %\n",
            "batch 10 Training Loss: 0.06 Validation Loss: 0.07 Accuracy 96 %\n",
            "batch 11 Training Loss: 0.05 Validation Loss: 0.05 Accuracy 96 %\n",
            "batch 12 Training Loss: 0.05 Validation Loss: 0.05 Accuracy 96 %\n",
            "batch 13 Training Loss: 0.05 Validation Loss: 0.06 Accuracy 96 %\n",
            "batch 14 Training Loss: 0.06 Validation Loss: 0.06 Accuracy 96 %\n",
            "batch 15 Training Loss: 0.05 Validation Loss: 0.07 Accuracy 96 %\n",
            "batch 16 Training Loss: 0.05 Validation Loss: 0.06 Accuracy 96 %\n",
            "batch 17 Training Loss: 0.06 Validation Loss: 0.04 Accuracy 96 %\n",
            "batch 18 Training Loss: 0.06 Validation Loss: 0.08 Accuracy 96 %\n",
            "batch 19 Training Loss: 0.05 Validation Loss: 0.05 Accuracy 96 %\n",
            "batch 20 Training Loss: 0.05 Validation Loss: 0.05 Accuracy 96 %\n",
            "batch 21 Training Loss: 0.06 Validation Loss: 0.06 Accuracy 96 %\n",
            "batch 22 Training Loss: 0.05 Validation Loss: 0.05 Accuracy 96 %\n",
            "batch 23 Training Loss: 0.05 Validation Loss: 0.05 Accuracy 96 %\n",
            "batch 24 Training Loss: 0.06 Validation Loss: 0.06 Accuracy 96 %\n",
            "batch 25 Training Loss: 0.06 Validation Loss: 0.05 Accuracy 96 %\n",
            "batch 26 Training Loss: 0.06 Validation Loss: 0.05 Accuracy 96 %\n",
            "batch 27 Training Loss: 0.06 Validation Loss: 0.04 Accuracy 96 %\n",
            "batch 28 Training Loss: 0.05 Validation Loss: 0.07 Accuracy 96 %\n",
            "batch 29 Training Loss: 0.05 Validation Loss: 0.06 Accuracy 96 %\n",
            "batch 30 Training Loss: 0.06 Validation Loss: 0.05 Accuracy 96 %\n"
          ]
        },
        {
          "output_type": "display_data",
          "data": {
            "text/plain": [
              "<Figure size 1500x500 with 2 Axes>"
            ],
            "image/png": "[encoded data removed]"
          },
          "metadata": {}
        }
      ]
    },
    {
      "cell_type": "code",
      "source": [
        "def test(): \n",
        "     \n",
        "    running_accuracy = 0 \n",
        "    total = 0 \n",
        "    model.load_state_dict(torch.load(F'/content/drive/MyDrive/Colab Notebooks/checkpoint.txt')) \n",
        "\n",
        "    with torch.no_grad(): \n",
        "        for data in test_loader: \n",
        "            inputs, outputs = data \n",
        "            outputs = outputs.to(torch.float32) \n",
        "            predicted_outputs = model(inputs) \n",
        "            _, predicted = torch.max(predicted_outputs, 1) \n",
        "            total += outputs.size(0) \n",
        "            running_accuracy += (predicted == outputs).sum().item() \n",
        " \n",
        "        print('Accuracy: %d %%' % (100 * running_accuracy / total))    \n",
        " "
      ],
      "metadata": {
        "id": "vmN4iBm7qyEg"
      },
      "execution_count": 27,
      "outputs": []
    },
    {
      "cell_type": "code",
      "source": [
        "test() "
      ],
      "metadata": {
        "colab": {
          "base_uri": "https://localhost:8080/"
        },
        "id": "NlzO_Yn0rAgw",
        "outputId": "c086b88a-e497-45c3-aafc-5ffb811a071d"
      },
      "execution_count": 86,
      "outputs": [
        {
          "output_type": "stream",
          "name": "stdout",
          "text": [
            "Accuracy: 100 %\n"
          ]
        }
      ]
    },
    {
      "cell_type": "code",
      "source": [
        "#list(model.parameters())  "
      ],
      "metadata": {
        "id": "LTUg02PLbnk0"
      },
      "execution_count": 20,
      "outputs": []
    },
    {
      "cell_type": "code",
      "source": [
        "#model.state_dict() "
      ],
      "metadata": {
        "id": "sj6Gt1JwcJXx"
      },
      "execution_count": 21,
      "outputs": []
    },
    {
      "cell_type": "code",
      "source": [
        "#model.state_dict().keys()"
      ],
      "metadata": {
        "id": "jOqDdcnAc1fL"
      },
      "execution_count": 22,
      "outputs": []
    }
  ]
}