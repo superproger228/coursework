{
  "nbformat": 4,
  "nbformat_minor": 0,
  "metadata": {
    "colab": {
      "provenance": [],
      "authorship_tag": "ABX9TyO0s29tVTqXfZlJMORl2FcX",
      "include_colab_link": true
    },
    "kernelspec": {
      "name": "python3",
      "display_name": "Python 3"
    },
    "language_info": {
      "name": "python"
    },
    "accelerator": "GPU",
    "gpuClass": "standard"
  },
  "cells": [
    {
      "cell_type": "markdown",
      "metadata": {
        "id": "view-in-github",
        "colab_type": "text"
      },
      "source": [
        "<a href=\"https://colab.research.google.com/github/superproger228/coursework/blob/main/PyTorch2.ipynb\" target=\"_parent\"><img src=\"https://colab.research.google.com/assets/colab-badge.svg\" alt=\"Open In Colab\"/></a>"
      ]
    },
    {
      "cell_type": "code",
      "execution_count": 1,
      "metadata": {
        "id": "TqVImUvgWUuA"
      },
      "outputs": [],
      "source": [
        "import torch \n",
        "import pandas as pd \n",
        "import torch.nn as nn \n",
        "from torch.utils.data import random_split, DataLoader, TensorDataset \n",
        "import torch.nn.functional as F \n",
        "import numpy as np \n",
        "import torch.optim as optim \n",
        "from torch.optim import Adam\n",
        "import seaborn as sns"
      ]
    },
    {
      "cell_type": "code",
      "source": [
        "df = sns.load_dataset(\"iris\")\n",
        "df.rename(columns = {'species':'Iris_Type'}, inplace = True )\n",
        "df.head() \n",
        "#df['Iris_Type'].value_counts()"
      ],
      "metadata": {
        "colab": {
          "base_uri": "https://localhost:8080/",
          "height": 206
        },
        "id": "WSqNJK8NWaQ8",
        "outputId": "4df7f5ed-cdfb-4214-ca44-a1fb55947628"
      },
      "execution_count": 2,
      "outputs": [
        {
          "output_type": "execute_result",
          "data": {
            "text/plain": [
              "   sepal_length  sepal_width  petal_length  petal_width Iris_Type\n",
              "0           5.1          3.5           1.4          0.2    setosa\n",
              "1           4.9          3.0           1.4          0.2    setosa\n",
              "2           4.7          3.2           1.3          0.2    setosa\n",
              "3           4.6          3.1           1.5          0.2    setosa\n",
              "4           5.0          3.6           1.4          0.2    setosa"
            ],
            "text/html": [
              "\n",
              "  <div id=\"df-cf11c066-0528-4567-b94b-ba090ab8bb1f\">\n",
              "    <div class=\"colab-df-container\">\n",
              "      <div>\n",
              "<style scoped>\n",
              "    .dataframe tbody tr th:only-of-type {\n",
              "        vertical-align: middle;\n",
              "    }\n",
              "\n",
              "    .dataframe tbody tr th {\n",
              "        vertical-align: top;\n",
              "    }\n",
              "\n",
              "    .dataframe thead th {\n",
              "        text-align: right;\n",
              "    }\n",
              "</style>\n",
              "<table border=\"1\" class=\"dataframe\">\n",
              "  <thead>\n",
              "    <tr style=\"text-align: right;\">\n",
              "      <th></th>\n",
              "      <th>sepal_length</th>\n",
              "      <th>sepal_width</th>\n",
              "      <th>petal_length</th>\n",
              "      <th>petal_width</th>\n",
              "      <th>Iris_Type</th>\n",
              "    </tr>\n",
              "  </thead>\n",
              "  <tbody>\n",
              "    <tr>\n",
              "      <th>0</th>\n",
              "      <td>5.1</td>\n",
              "      <td>3.5</td>\n",
              "      <td>1.4</td>\n",
              "      <td>0.2</td>\n",
              "      <td>setosa</td>\n",
              "    </tr>\n",
              "    <tr>\n",
              "      <th>1</th>\n",
              "      <td>4.9</td>\n",
              "      <td>3.0</td>\n",
              "      <td>1.4</td>\n",
              "      <td>0.2</td>\n",
              "      <td>setosa</td>\n",
              "    </tr>\n",
              "    <tr>\n",
              "      <th>2</th>\n",
              "      <td>4.7</td>\n",
              "      <td>3.2</td>\n",
              "      <td>1.3</td>\n",
              "      <td>0.2</td>\n",
              "      <td>setosa</td>\n",
              "    </tr>\n",
              "    <tr>\n",
              "      <th>3</th>\n",
              "      <td>4.6</td>\n",
              "      <td>3.1</td>\n",
              "      <td>1.5</td>\n",
              "      <td>0.2</td>\n",
              "      <td>setosa</td>\n",
              "    </tr>\n",
              "    <tr>\n",
              "      <th>4</th>\n",
              "      <td>5.0</td>\n",
              "      <td>3.6</td>\n",
              "      <td>1.4</td>\n",
              "      <td>0.2</td>\n",
              "      <td>setosa</td>\n",
              "    </tr>\n",
              "  </tbody>\n",
              "</table>\n",
              "</div>\n",
              "      <button class=\"colab-df-convert\" onclick=\"convertToInteractive('df-cf11c066-0528-4567-b94b-ba090ab8bb1f')\"\n",
              "              title=\"Convert this dataframe to an interactive table.\"\n",
              "              style=\"display:none;\">\n",
              "        \n",
              "  <svg xmlns=\"http://www.w3.org/2000/svg\" height=\"24px\"viewBox=\"0 0 24 24\"\n",
              "       width=\"24px\">\n",
              "    <path d=\"M0 0h24v24H0V0z\" fill=\"none\"/>\n",
              "    <path d=\"M18.56 5.44l.94 2.06.94-2.06 2.06-.94-2.06-.94-.94-2.06-.94 2.06-2.06.94zm-11 1L8.5 8.5l.94-2.06 2.06-.94-2.06-.94L8.5 2.5l-.94 2.06-2.06.94zm10 10l.94 2.06.94-2.06 2.06-.94-2.06-.94-.94-2.06-.94 2.06-2.06.94z\"/><path d=\"M17.41 7.96l-1.37-1.37c-.4-.4-.92-.59-1.43-.59-.52 0-1.04.2-1.43.59L10.3 9.45l-7.72 7.72c-.78.78-.78 2.05 0 2.83L4 21.41c.39.39.9.59 1.41.59.51 0 1.02-.2 1.41-.59l7.78-7.78 2.81-2.81c.8-.78.8-2.07 0-2.86zM5.41 20L4 18.59l7.72-7.72 1.47 1.35L5.41 20z\"/>\n",
              "  </svg>\n",
              "      </button>\n",
              "      \n",
              "  <style>\n",
              "    .colab-df-container {\n",
              "      display:flex;\n",
              "      flex-wrap:wrap;\n",
              "      gap: 12px;\n",
              "    }\n",
              "\n",
              "    .colab-df-convert {\n",
              "      background-color: #E8F0FE;\n",
              "      border: none;\n",
              "      border-radius: 50%;\n",
              "      cursor: pointer;\n",
              "      display: none;\n",
              "      fill: #1967D2;\n",
              "      height: 32px;\n",
              "      padding: 0 0 0 0;\n",
              "      width: 32px;\n",
              "    }\n",
              "\n",
              "    .colab-df-convert:hover {\n",
              "      background-color: #E2EBFA;\n",
              "      box-shadow: 0px 1px 2px rgba(60, 64, 67, 0.3), 0px 1px 3px 1px rgba(60, 64, 67, 0.15);\n",
              "      fill: #174EA6;\n",
              "    }\n",
              "\n",
              "    [theme=dark] .colab-df-convert {\n",
              "      background-color: #3B4455;\n",
              "      fill: #D2E3FC;\n",
              "    }\n",
              "\n",
              "    [theme=dark] .colab-df-convert:hover {\n",
              "      background-color: #434B5C;\n",
              "      box-shadow: 0px 1px 3px 1px rgba(0, 0, 0, 0.15);\n",
              "      filter: drop-shadow(0px 1px 2px rgba(0, 0, 0, 0.3));\n",
              "      fill: #FFFFFF;\n",
              "    }\n",
              "  </style>\n",
              "\n",
              "      <script>\n",
              "        const buttonEl =\n",
              "          document.querySelector('#df-cf11c066-0528-4567-b94b-ba090ab8bb1f button.colab-df-convert');\n",
              "        buttonEl.style.display =\n",
              "          google.colab.kernel.accessAllowed ? 'block' : 'none';\n",
              "\n",
              "        async function convertToInteractive(key) {\n",
              "          const element = document.querySelector('#df-cf11c066-0528-4567-b94b-ba090ab8bb1f');\n",
              "          const dataTable =\n",
              "            await google.colab.kernel.invokeFunction('convertToInteractive',\n",
              "                                                     [key], {});\n",
              "          if (!dataTable) return;\n",
              "\n",
              "          const docLinkHtml = 'Like what you see? Visit the ' +\n",
              "            '<a target=\"_blank\" href=https://colab.research.google.com/notebooks/data_table.ipynb>data table notebook</a>'\n",
              "            + ' to learn more about interactive tables.';\n",
              "          element.innerHTML = '';\n",
              "          dataTable['output_type'] = 'display_data';\n",
              "          await google.colab.output.renderOutput(dataTable, element);\n",
              "          const docLink = document.createElement('div');\n",
              "          docLink.innerHTML = docLinkHtml;\n",
              "          element.appendChild(docLink);\n",
              "        }\n",
              "      </script>\n",
              "    </div>\n",
              "  </div>\n",
              "  "
            ]
          },
          "metadata": {},
          "execution_count": 2
        }
      ]
    },
    {
      "cell_type": "code",
      "source": [
        "labels = {'setosa':0, 'versicolor':1, 'virginica':2} \n",
        "df['IrisType_num'] = df['Iris_Type']  \n",
        "df.IrisType_num = [labels[item] for item in df.IrisType_num]  \n",
        " \n",
        "input = df.iloc[:,:-2]           \n",
        "print(input, '\\n')   \n",
        "output = df.loc[:, 'IrisType_num']   \n",
        "print(output)"
      ],
      "metadata": {
        "colab": {
          "base_uri": "https://localhost:8080/"
        },
        "id": "Qre2fJX3WrQG",
        "outputId": "b334b43b-7b34-4e00-ae49-de7dd8ba0147"
      },
      "execution_count": 3,
      "outputs": [
        {
          "output_type": "stream",
          "name": "stdout",
          "text": [
            "     sepal_length  sepal_width  petal_length  petal_width\n",
            "0             5.1          3.5           1.4          0.2\n",
            "1             4.9          3.0           1.4          0.2\n",
            "2             4.7          3.2           1.3          0.2\n",
            "3             4.6          3.1           1.5          0.2\n",
            "4             5.0          3.6           1.4          0.2\n",
            "..            ...          ...           ...          ...\n",
            "145           6.7          3.0           5.2          2.3\n",
            "146           6.3          2.5           5.0          1.9\n",
            "147           6.5          3.0           5.2          2.0\n",
            "148           6.2          3.4           5.4          2.3\n",
            "149           5.9          3.0           5.1          1.8\n",
            "\n",
            "[150 rows x 4 columns] \n",
            "\n",
            "0      0\n",
            "1      0\n",
            "2      0\n",
            "3      0\n",
            "4      0\n",
            "      ..\n",
            "145    2\n",
            "146    2\n",
            "147    2\n",
            "148    2\n",
            "149    2\n",
            "Name: IrisType_num, Length: 150, dtype: int64\n"
          ]
        }
      ]
    },
    {
      "cell_type": "code",
      "source": [
        "input = torch.Tensor(input.to_numpy())     \n",
        "output = torch.tensor(output.to_numpy())        \n",
        "data = TensorDataset(input, output)    "
      ],
      "metadata": {
        "id": "YQpQBvArY0_q"
      },
      "execution_count": 4,
      "outputs": []
    },
    {
      "cell_type": "code",
      "source": [
        "train_batch_size = 10        \n",
        "number_rows = len(input) \n",
        "test_split = int(number_rows*0.2)  \n",
        "validate_split = int(number_rows*0.1) \n",
        "train_split = number_rows - test_split - validate_split   #70% - train\n",
        "train_set, validate_set, test_set = random_split( \n",
        "    data, [train_split, validate_split, test_split])    \n",
        " \n",
        "train_loader = DataLoader(train_set, batch_size = train_batch_size, shuffle = True) \n",
        "validate_loader = DataLoader(validate_set, batch_size = 1) \n",
        "test_loader = DataLoader(test_set, batch_size = 1)"
      ],
      "metadata": {
        "id": "Eeh8nDHoZFn1"
      },
      "execution_count": 5,
      "outputs": []
    },
    {
      "cell_type": "code",
      "source": [
        "input_size = list(input.shape)[1]   # = 4. \n",
        "learning_rate = 0.01 \n",
        "output_size = len(labels)           \n",
        "N = 24\n",
        "\n",
        "class Network(nn.Module): \n",
        "   def __init__(self, input_size, output_size): \n",
        "       super(Network, self).__init__() \n",
        "        \n",
        "       self.layer1 = nn.Linear(input_size, N) \n",
        "       self.layer2 = nn.Linear(N, N) \n",
        "       self.layer3 = nn.Linear(N, output_size) \n",
        "\n",
        "   def forward(self, x): \n",
        "       x1 = F.relu(self.layer1(x)) \n",
        "       x2 = F.relu(self.layer2(x1)) \n",
        "       x3 = self.layer3(x2) \n",
        "       return x3 \n",
        " \n",
        "model = Network(input_size, output_size)"
      ],
      "metadata": {
        "id": "FGna0aDyZxA1"
      },
      "execution_count": 6,
      "outputs": []
    },
    {
      "cell_type": "code",
      "source": [
        "loss_fn = nn.CrossEntropyLoss()\n",
        "optimizer = Adam(model.parameters(), lr=0.01)\n",
        "\n",
        "def saveModel(): \n",
        "    torch.save(model.state_dict(), \" \") "
      ],
      "metadata": {
        "id": "d3FJVdMXf-Y6"
      },
      "execution_count": 17,
      "outputs": []
    },
    {
      "cell_type": "code",
      "source": [
        "def train(num_epochs): \n",
        "    best_accuracy = 0.0 \n",
        "     \n",
        "    for epoch in range(1, num_epochs+1): \n",
        "        running_train_loss = 0.0 \n",
        "        running_accuracy = 0.0 \n",
        "        running_vall_loss = 0.0 \n",
        "        total = 0 \n",
        " \n",
        "        for data in train_loader: \n",
        "            inputs, outputs = data   \n",
        "            optimizer.zero_grad()   \n",
        "            predicted_outputs = model(inputs)   \n",
        "            train_loss = loss_fn(predicted_outputs, outputs)   \n",
        "            train_loss.backward()   \n",
        "            optimizer.step()        \n",
        "            running_train_loss +=train_loss.item()  \n",
        "        \n",
        "        train_loss_value = running_train_loss/len(train_loader) \n",
        "      \n",
        "        with torch.no_grad(): \n",
        "            model.eval() \n",
        "            for data in validate_loader: \n",
        "               inputs, outputs = data \n",
        "               predicted_outputs = model(inputs) \n",
        "               val_loss = loss_fn(predicted_outputs, outputs) \n",
        "                       \n",
        "               _, predicted = torch.max(predicted_outputs, 1) \n",
        "               running_vall_loss += val_loss.item()  \n",
        "               total += outputs.size(0) \n",
        "               running_accuracy += (predicted == outputs).sum().item() \n",
        " \n",
        "        val_loss_value = running_vall_loss/len(validate_loader) \n",
        "                \n",
        "        accuracy = (100 * running_accuracy / total)     \n",
        " \n",
        "        if accuracy > best_accuracy: \n",
        "            saveModel()\n",
        "            best_accuracy = accuracy \n",
        "         \n",
        "        print('batch', epoch, 'Training Loss: %.2f' %train_loss_value, 'Validation Loss: %.2f' %val_loss_value, 'Accuracy %d %%' % (accuracy))"
      ],
      "metadata": {
        "id": "Q71GbwrThQL7"
      },
      "execution_count": 18,
      "outputs": []
    },
    {
      "cell_type": "code",
      "source": [
        "num_epochs = 10\n",
        "train(num_epochs) "
      ],
      "metadata": {
        "colab": {
          "base_uri": "https://localhost:8080/"
        },
        "id": "o9zYs9PDoPCZ",
        "outputId": "f0f104c5-a705-4063-b4e3-8c1e0332d120"
      },
      "execution_count": 19,
      "outputs": [
        {
          "output_type": "stream",
          "name": "stdout",
          "text": [
            "batch 1 Training Loss: 0.07 Validation Loss: 0.03 Accuracy 100 %\n",
            "batch 2 Training Loss: 0.12 Validation Loss: 0.00 Accuracy 100 %\n",
            "batch 3 Training Loss: 0.11 Validation Loss: 0.01 Accuracy 100 %\n",
            "batch 4 Training Loss: 0.08 Validation Loss: 0.01 Accuracy 100 %\n",
            "batch 5 Training Loss: 0.09 Validation Loss: 0.07 Accuracy 93 %\n",
            "batch 6 Training Loss: 0.07 Validation Loss: 0.05 Accuracy 100 %\n",
            "batch 7 Training Loss: 0.17 Validation Loss: 0.01 Accuracy 100 %\n",
            "batch 8 Training Loss: 0.18 Validation Loss: 0.07 Accuracy 93 %\n",
            "batch 9 Training Loss: 0.15 Validation Loss: 0.04 Accuracy 100 %\n",
            "batch 10 Training Loss: 0.17 Validation Loss: 0.05 Accuracy 100 %\n"
          ]
        }
      ]
    },
    {
      "cell_type": "code",
      "source": [
        "def test(): \n",
        "     \n",
        "    running_accuracy = 0 \n",
        "    total = 0 \n",
        " \n",
        "    with torch.no_grad(): \n",
        "        for data in test_loader: \n",
        "            inputs, outputs = data \n",
        "            outputs = outputs.to(torch.float32) \n",
        "            predicted_outputs = model(inputs) \n",
        "            _, predicted = torch.max(predicted_outputs, 1) \n",
        "            total += outputs.size(0) \n",
        "            running_accuracy += (predicted == outputs).sum().item() \n",
        " \n",
        "        print('Accuracy: %d %%' % (100 * running_accuracy / total))    \n",
        " "
      ],
      "metadata": {
        "id": "vmN4iBm7qyEg"
      },
      "execution_count": 20,
      "outputs": []
    },
    {
      "cell_type": "code",
      "source": [
        "test() "
      ],
      "metadata": {
        "colab": {
          "base_uri": "https://localhost:8080/"
        },
        "id": "NlzO_Yn0rAgw",
        "outputId": "97bfc6cd-f5aa-4e78-8a02-7e71481b331b"
      },
      "execution_count": 21,
      "outputs": [
        {
          "output_type": "stream",
          "name": "stdout",
          "text": [
            "Accuracy: 93 %\n"
          ]
        }
      ]
    }
  ]
}